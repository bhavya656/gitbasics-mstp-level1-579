{
 "cells": [
  {
   "cell_type": "markdown",
   "metadata": {},
   "source": [
    "# task1.Function to print all numbers divisible by 6 and not a factor \n",
    "of 100 in a given range(lb, ub) inclusive"
   ]
  },
  {
   "cell_type": "code",
   "execution_count": 1,
   "metadata": {},
   "outputs": [
    {
     "name": "stdout",
     "output_type": "stream",
     "text": [
      "10\n",
      "30\n",
      "12\n",
      "18\n",
      "24\n"
     ]
    }
   ],
   "source": [
    "def divisible(lb):\n",
    "    if((lb%6==0)&(100%lb!=0)):\n",
    "        print(lb)\n",
    "lb=int(input())\n",
    "ub=int(input())\n",
    "for j in range (lb,ub):\n",
    "    divisible(j)\n",
    "    "
   ]
  },
  {
   "cell_type": "markdown",
   "metadata": {},
   "source": [
    "# task2.program to print the all the even no in range inclusive"
   ]
  },
  {
   "cell_type": "code",
   "execution_count": 2,
   "metadata": {},
   "outputs": [
    {
     "name": "stdout",
     "output_type": "stream",
     "text": [
      "10\n",
      "20\n",
      "10\n",
      "12\n",
      "14\n",
      "16\n",
      "18\n"
     ]
    }
   ],
   "source": [
    "def even(lb):\n",
    "    if(lb%2==0):\n",
    "        return 1\n",
    "    else:\n",
    "        return 0\n",
    "lb=int(input())\n",
    "ub=int(input())\n",
    "for j in range(lb,ub):\n",
    "    if even(j)==1:\n",
    "        print(j)"
   ]
  },
  {
   "cell_type": "markdown",
   "metadata": {},
   "source": [
    "# task3:Function to find the average of cubes of all even numbers in a \n",
    "given range(lb, ub) inclusive"
   ]
  },
  {
   "cell_type": "code",
   "execution_count": 4,
   "metadata": {},
   "outputs": [
    {
     "name": "stdout",
     "output_type": "stream",
     "text": [
      "1\n",
      "5\n"
     ]
    }
   ],
   "source": [
    "lb=int(input())\n",
    "ub=int(input())\n",
    "def cubesavg(lb,ub):\n",
    "    a=0\n",
    "    count=0\n",
    "    for j in range(lb,ub):\n",
    "        if j%2==0:\n",
    "            a=j**3\n",
    "            s=s+a\n",
    "            count=count+1\n",
    "            print(\"avg\",s//count)\n",
    "            cubeavg(lb,ub)"
   ]
  },
  {
   "cell_type": "markdown",
   "metadata": {},
   "source": [
    "# task4.program to print all the sum of perfect numbers in a given rang"
   ]
  },
  {
   "cell_type": "code",
   "execution_count": 1,
   "metadata": {},
   "outputs": [
    {
     "name": "stdout",
     "output_type": "stream",
     "text": [
      "1\n",
      "50\n",
      "perfect--> 6\n",
      "perfect--> 28\n"
     ]
    }
   ],
   "source": [
    "def perfect(lb):\n",
    "    s=0\n",
    "    for i in range(1,lb):\n",
    "        if(lb%i==0):\n",
    "            s=s+i\n",
    "    if(s==lb):\n",
    "        print(\"perfect-->\",lb)\n",
    "lb=int(input())\n",
    "ub=int(input())\n",
    "for j in range(lb,ub):\n",
    "    perfect(j)"
   ]
  },
  {
   "cell_type": "markdown",
   "metadata": {},
   "source": [
    "# task5:Function to generate N odd armstrong number"
   ]
  },
  {
   "cell_type": "code",
   "execution_count": 2,
   "metadata": {},
   "outputs": [
    {
     "name": "stdout",
     "output_type": "stream",
     "text": [
      "153\n",
      "armstrong--> 153\n",
      "odd\n"
     ]
    }
   ],
   "source": [
    "def armstrong(lb):\n",
    "    s=0\n",
    "    b=lb\n",
    "    while(lb!=0):\n",
    "        a=lb%10\n",
    "        s=s+a**3\n",
    "        lb=lb//10\n",
    "        if(s==b):\n",
    "            print(\"armstrong-->\",s)\n",
    "            if(s%2!=0):\n",
    "                print(\"odd\")\n",
    "lb=int(input())\n",
    "armstrong(lb)"
   ]
  },
  {
   "cell_type": "code",
   "execution_count": null,
   "metadata": {},
   "outputs": [],
   "source": []
  }
 ],
 "metadata": {
  "kernelspec": {
   "display_name": "Python 3",
   "language": "python",
   "name": "python3"
  },
  "language_info": {
   "codemirror_mode": {
    "name": "ipython",
    "version": 3
   },
   "file_extension": ".py",
   "mimetype": "text/x-python",
   "name": "python",
   "nbconvert_exporter": "python",
   "pygments_lexer": "ipython3",
   "version": "3.7.3"
  }
 },
 "nbformat": 4,
 "nbformat_minor": 2
}
