{
 "cells": [
  {
   "cell_type": "markdown",
   "metadata": {},
   "source": [
    "# TASK"
   ]
  },
  {
   "cell_type": "markdown",
   "metadata": {},
   "source": [
    "# Task 1:write a python program to generate and print a list and a dictinory of square of number between 1 and 15(both injcluded)"
   ]
  },
  {
   "cell_type": "code",
   "execution_count": 1,
   "metadata": {},
   "outputs": [
    {
     "name": "stdout",
     "output_type": "stream",
     "text": [
      "1\n",
      "4\n",
      "9\n",
      "16\n",
      "25\n",
      "36\n",
      "49\n",
      "64\n",
      "81\n",
      "100\n",
      "121\n",
      "144\n",
      "169\n",
      "196\n",
      "225\n",
      "{1: 1, 2: 4, 3: 9, 4: 16, 5: 25, 6: 36, 7: 49, 8: 64, 9: 81, 10: 100, 11: 121, 12: 144, 13: 169, 14: 196, 15: 225}\n"
     ]
    }
   ],
   "source": [
    "a={}\n",
    "n=15\n",
    "for i in range(1,n+1):\n",
    "    a[i]=i**2\n",
    "    print(a[i])\n",
    "print(a)"
   ]
  },
  {
   "cell_type": "markdown",
   "metadata": {},
   "source": [
    "# Task 2:take 10 integer inputs from user and store them in a list and print them on screen"
   ]
  },
  {
   "cell_type": "code",
   "execution_count": 6,
   "metadata": {},
   "outputs": [
    {
     "name": "stdout",
     "output_type": "stream",
     "text": [
      "1 2 3 4 5 6 7 8 9 10\n",
      "[1, 2, 3, 4, 5, 6, 7, 8, 9, 10]\n"
     ]
    }
   ],
   "source": [
    "a=list(map(int,input().split()))\n",
    "print(a)"
   ]
  },
  {
   "cell_type": "markdown",
   "metadata": {},
   "source": [
    "# Task 3:l=[1,5,7,3,2,4,5,9],print list of all even numbers from the given list"
   ]
  },
  {
   "cell_type": "code",
   "execution_count": 1,
   "metadata": {},
   "outputs": [
    {
     "name": "stdout",
     "output_type": "stream",
     "text": [
      "[2, 4]\n"
     ]
    }
   ],
   "source": [
    "l=[1,5,7,3,2,4,5,9]\n",
    "l1=[]\n",
    "for i in l:\n",
    "    if(i%2==0):\n",
    "        l1.append(i)\n",
    "print(l1)"
   ]
  },
  {
   "cell_type": "markdown",
   "metadata": {},
   "source": [
    "# Task 5:Ask user to give name and marks of 10 different students .store them in dictinory"
   ]
  },
  {
   "cell_type": "code",
   "execution_count": 1,
   "metadata": {},
   "outputs": [
    {
     "name": "stdout",
     "output_type": "stream",
     "text": [
      "10\n",
      "namebhavya\n",
      "marks100\n",
      "namesindhu\n",
      "marks90\n",
      "namebharu\n",
      "marks70\n",
      "nameshabu\n",
      "marks60\n",
      "namevasu\n",
      "marks40\n",
      "namedeekshi\n",
      "marks20\n",
      "nameyamimi\n",
      "marks60\n",
      "namecherry\n",
      "marks79\n",
      "namepriya\n",
      "marks67\n",
      "namesalma\n",
      "marks45\n",
      "{'bhavya': '100', 'sindhu': '90', 'bharu': '70', 'shabu': '60', 'vasu': '40', 'deekshi': '20', 'yamimi': '60', 'cherry': '79', 'priya': '67', 'salma': '45'}\n"
     ]
    }
   ],
   "source": [
    "n=int(input())\n",
    "a={}\n",
    "for i in range(n):\n",
    "    name=input(\"name\")\n",
    "    marks=input(\"marks\")\n",
    "    a[name]=marks\n",
    "print(a)"
   ]
  },
  {
   "cell_type": "markdown",
   "metadata": {},
   "source": [
    "# Task 6:sort the dictionary created in previous example according to marks"
   ]
  },
  {
   "cell_type": "code",
   "execution_count": 2,
   "metadata": {},
   "outputs": [
    {
     "name": "stdout",
     "output_type": "stream",
     "text": [
      "3\n",
      "namebhavya\n",
      "marks100\n",
      "namesindhu\n",
      "marks90\n",
      "{'bhavya': '100', 'sindhu': '90'}\n",
      "['bhavya', 'sindhu']\n",
      "bhavya : 100\n",
      "sindhu : 90\n"
     ]
    }
   ],
   "source": [
    "n=int(input())\n",
    "a={}\n",
    "for i in range(1,n):\n",
    "    name=input(\"name\")\n",
    "    marks=input(\"marks\")\n",
    "    a[name]=marks\n",
    "print(a)\n",
    "b=sorted(a.keys())\n",
    "print(b)\n",
    "for i in b:\n",
    "    print(i,\":\",a[i])"
   ]
  },
  {
   "cell_type": "markdown",
   "metadata": {},
   "source": [
    "# Task 7:use dictionary to store antonmys of words\n",
    "# ex:'right':'left','up':'down',display all words and then ask user to enter a word and display antonmy of it"
   ]
  },
  {
   "cell_type": "code",
   "execution_count": 6,
   "metadata": {},
   "outputs": [
    {
     "name": "stdout",
     "output_type": "stream",
     "text": [
      "dict_keys(['right', 'up'])\n",
      "right\n",
      "left\n"
     ]
    }
   ],
   "source": [
    "c={'right':'left','up':'down'}\n",
    "print(c.keys())\n",
    "n=(input())\n",
    "print(c.get(n))\n",
    "# print(list(c.keys()))\n"
   ]
  },
  {
   "cell_type": "markdown",
   "metadata": {},
   "source": [
    "# Task 8:count the number of occurrence of each letter in word \"MISSISSIIPPI\".store count of every letter with the letter in a dictionary"
   ]
  },
  {
   "cell_type": "code",
   "execution_count": 9,
   "metadata": {},
   "outputs": [
    {
     "name": "stdout",
     "output_type": "stream",
     "text": [
      "I:5\n",
      "M:1\n",
      "P:2\n",
      "S:4\n"
     ]
    }
   ],
   "source": [
    "a=\"MISSISSIIPPI\"\n",
    "p=list(set(a))\n",
    "for i in p:\n",
    "    print(i,a.count(i),sep=\":\")"
   ]
  },
  {
   "cell_type": "markdown",
   "metadata": {},
   "source": [
    "# Task 9:From the previous question,sort according to the number of letters"
   ]
  },
  {
   "cell_type": "code",
   "execution_count": 10,
   "metadata": {},
   "outputs": [
    {
     "name": "stdout",
     "output_type": "stream",
     "text": [
      "I:5\n",
      "M:1\n",
      "P:2\n",
      "S:4\n"
     ]
    }
   ],
   "source": [
    "a=\"MISSISSIIPPI\"\n",
    "p=list(set(a))\n",
    "p=sorted(p)\n",
    "for i in p:\n",
    "    print(i,a.count(i),sep=\":\")"
   ]
  },
  {
   "cell_type": "markdown",
   "metadata": {},
   "source": [
    "# Task 4:Take 10 integer input from user and print the following:\n",
    "number of positive numbers\n",
    "number of negative numbers\n",
    "number of odd numbers\n",
    "number of even numbers\n",
    "number of 0s,using dictionaries\n",
    "a=[10,20,-5,-6,3,4,0,0,-2,8]\n",
    "d={p:5,n:3,e:6,odd:2,0:2}\n",
    "\n"
   ]
  },
  {
   "cell_type": "code",
   "execution_count": 2,
   "metadata": {},
   "outputs": [
    {
     "name": "stdout",
     "output_type": "stream",
     "text": [
      "-2\n",
      "1\n",
      "7\n",
      "0\n",
      "0\n",
      "8\n",
      "5\n",
      "7\n",
      "-7\n",
      "4\n",
      "{'p': 6, 'n': 2, 'e': 3, 'o': 5, 'z': 2}\n"
     ]
    }
   ],
   "source": [
    "#n=list(map(int,input().split()))\n",
    "l=[]\n",
    "for i in range(1,11):\n",
    "    n=int(input())\n",
    "    l.append(n)\n",
    "d={'p':0,'n':0,'e':0,'o':0,'z':0}\n",
    "for j in l:\n",
    "    if j>0:\n",
    "        d['p']+=1\n",
    "        if j%2==0:\n",
    "            d['e']+=1\n",
    "        else:\n",
    "            d['o']+=1\n",
    "    elif j<0:\n",
    "        d['n']+=1\n",
    "        if j%2==0:\n",
    "            d['e']+=1\n",
    "        else:\n",
    "            d['o']+=1\n",
    "    elif j==0:\n",
    "         d['z']+=1\n",
    "print(d)\n",
    "    "
   ]
  },
  {
   "cell_type": "code",
   "execution_count": null,
   "metadata": {},
   "outputs": [],
   "source": []
  },
  {
   "cell_type": "code",
   "execution_count": null,
   "metadata": {},
   "outputs": [],
   "source": []
  }
 ],
 "metadata": {
  "kernelspec": {
   "display_name": "Python 3",
   "language": "python",
   "name": "python3"
  },
  "language_info": {
   "codemirror_mode": {
    "name": "ipython",
    "version": 3
   },
   "file_extension": ".py",
   "mimetype": "text/x-python",
   "name": "python",
   "nbconvert_exporter": "python",
   "pygments_lexer": "ipython3",
   "version": "3.7.3"
  }
 },
 "nbformat": 4,
 "nbformat_minor": 2
}
