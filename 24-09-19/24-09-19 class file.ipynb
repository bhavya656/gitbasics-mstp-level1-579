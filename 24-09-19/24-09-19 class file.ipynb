{
 "cells": [
  {
   "cell_type": "markdown",
   "metadata": {},
   "source": [
    "## functions"
   ]
  },
  {
   "cell_type": "markdown",
   "metadata": {},
   "source": [
    "## reusability\n",
    "## easy to debug\n",
    "## function defination\n",
    "## function calling"
   ]
  },
  {
   "cell_type": "code",
   "execution_count": 2,
   "metadata": {},
   "outputs": [
    {
     "name": "stdout",
     "output_type": "stream",
     "text": [
      "30\n",
      "40\n",
      "70\n"
     ]
    }
   ],
   "source": [
    "def addition():\n",
    "    a=int(input())\n",
    "    b=int(input())\n",
    "    print(a+b)\n",
    "addition()"
   ]
  },
  {
   "cell_type": "code",
   "execution_count": 3,
   "metadata": {},
   "outputs": [
    {
     "name": "stdout",
     "output_type": "stream",
     "text": [
      "20\n",
      "30\n",
      "50\n"
     ]
    }
   ],
   "source": [
    "def addition(a,b):\n",
    "    c=a+b\n",
    "    print(c)\n",
    "    \n",
    "a=input()\n",
    "b=input()\n",
    "addition(int(a),int(b))"
   ]
  },
  {
   "cell_type": "code",
   "execution_count": 5,
   "metadata": {},
   "outputs": [
    {
     "data": {
      "text/plain": [
       "(20, 30, 50)"
      ]
     },
     "execution_count": 5,
     "metadata": {},
     "output_type": "execute_result"
    }
   ],
   "source": [
    "def add(a,b):        \n",
    "    c=a+b\n",
    "    return (a,b,c)\n",
    "add(20,30)"
   ]
  },
  {
   "cell_type": "code",
   "execution_count": 7,
   "metadata": {},
   "outputs": [
    {
     "data": {
      "text/plain": [
       "20"
      ]
     },
     "execution_count": 7,
     "metadata": {},
     "output_type": "execute_result"
    }
   ],
   "source": [
    "def add(a,b):       #in function only return one value\n",
    "    c=a+b\n",
    "    return a\n",
    "    return b\n",
    "    return c\n",
    "add(20,30)"
   ]
  },
  {
   "cell_type": "code",
   "execution_count": 16,
   "metadata": {},
   "outputs": [
    {
     "name": "stdout",
     "output_type": "stream",
     "text": [
      "2\n",
      "even\n"
     ]
    }
   ],
   "source": [
    "def evenorodd(a):\n",
    "    if a%2==0:\n",
    "        print(\"even\")\n",
    "    else:\n",
    "        print(\"odd\")\n",
    "a=int(input())\n",
    "evenorodd(a)"
   ]
  },
  {
   "cell_type": "code",
   "execution_count": 17,
   "metadata": {},
   "outputs": [
    {
     "name": "stdout",
     "output_type": "stream",
     "text": [
      "1\n",
      "3\n",
      "6\n",
      "10\n",
      "15\n",
      "21\n",
      "28\n",
      "36\n",
      "45\n",
      "55\n",
      "55\n"
     ]
    }
   ],
   "source": [
    "# sum of n natural numbers\n",
    "def sum(n):\n",
    "    s=0\n",
    "    for i in range(1,n+1):\n",
    "        s=s+i\n",
    "        print(s)\n",
    "    print(s)\n",
    "sum(10)\n",
    "           "
   ]
  },
  {
   "cell_type": "markdown",
   "metadata": {},
   "source": [
    "# Task \n"
   ]
  },
  {
   "cell_type": "code",
   "execution_count": 25,
   "metadata": {},
   "outputs": [
    {
     "name": "stdout",
     "output_type": "stream",
     "text": [
      "3\n",
      "prime\n"
     ]
    }
   ],
   "source": [
    "# given number is prime or not\n",
    "def prime(n):\n",
    "    fact=1\n",
    "    for i in range(1,n):\n",
    "            if(n%i==0):\n",
    "                fact=fact+1\n",
    "    if(fact==2):\n",
    "        print(\"prime\")\n",
    "    else:\n",
    "        print(\"not prime\")\n",
    "n=int(input())\n",
    "prime(n)\n",
    "\n"
   ]
  },
  {
   "cell_type": "code",
   "execution_count": 26,
   "metadata": {},
   "outputs": [
    {
     "name": "stdout",
     "output_type": "stream",
     "text": [
      "6\n",
      "factors of n\n",
      "1\n",
      "2\n",
      "3\n",
      "6\n"
     ]
    }
   ],
   "source": [
    "# factors of given number\n",
    "def factor(n):\n",
    "    print(\"factors of n\")\n",
    "    for i in range(1,n+1):\n",
    "        if (n%i==0):\n",
    "            print(i)\n",
    "n=int(input())\n",
    "factor(n)            "
   ]
  },
  {
   "cell_type": "code",
   "execution_count": 27,
   "metadata": {},
   "outputs": [
    {
     "name": "stdout",
     "output_type": "stream",
     "text": [
      "2000\n",
      "leap year\n"
     ]
    }
   ],
   "source": [
    "# given year is leap year or not\n",
    "def leapyear(a):\n",
    "    if(a%100==0):\n",
    "        if(a%400==0):\n",
    "            print(\"leap year\")\n",
    "        else:\n",
    "            print(\"not a leap year\")\n",
    "a=int(input())\n",
    "leapyear(a)\n",
    "            "
   ]
  },
  {
   "cell_type": "code",
   "execution_count": 28,
   "metadata": {},
   "outputs": [
    {
     "name": "stdout",
     "output_type": "stream",
     "text": [
      "153\n",
      "armstrong\n"
     ]
    }
   ],
   "source": [
    "# whether the number is armstrong or not\n",
    "def armstrong(a):\n",
    "    sum=0\n",
    "    temp=a\n",
    "    while temp>0:\n",
    "        n=temp%10\n",
    "        sum+=n**3\n",
    "        temp//=10\n",
    "    if a==sum:\n",
    "        print(\"armstrong\")\n",
    "    else:\n",
    "        print(\"not armstrong\")\n",
    "a=int(input())\n",
    "armstrong(a)\n",
    "            "
   ]
  },
  {
   "cell_type": "markdown",
   "metadata": {},
   "source": [
    "# average of first n natural numbers"
   ]
  },
  {
   "cell_type": "code",
   "execution_count": 31,
   "metadata": {},
   "outputs": [
    {
     "name": "stdout",
     "output_type": "stream",
     "text": [
      "10\n",
      "0\n"
     ]
    }
   ],
   "source": [
    "def avg(n):\n",
    "    sum=0\n",
    "    count=1\n",
    "    for i in range(1,n+1):\n",
    "        sum=sum+1\n",
    "        count=count+1\n",
    "    print(sum//count)\n",
    "n=int(input())\n",
    "avg(n)"
   ]
  },
  {
   "cell_type": "markdown",
   "metadata": {},
   "source": [
    "# factorial of number"
   ]
  },
  {
   "cell_type": "code",
   "execution_count": 35,
   "metadata": {},
   "outputs": [
    {
     "name": "stdout",
     "output_type": "stream",
     "text": [
      "5\n",
      "6\n"
     ]
    }
   ],
   "source": [
    "def fact(n):\n",
    "    fact=1\n",
    "    for i in range(1,n+1):\n",
    "        fact=fact+1\n",
    "    print(fact)\n",
    "n=int(input())\n",
    "fact(n)"
   ]
  },
  {
   "cell_type": "markdown",
   "metadata": {},
   "source": [
    "# perfect numbers"
   ]
  },
  {
   "cell_type": "code",
   "execution_count": 42,
   "metadata": {},
   "outputs": [
    {
     "name": "stdout",
     "output_type": "stream",
     "text": [
      "28\n",
      "1\n",
      "2\n",
      "3\n",
      "4\n",
      "5\n",
      "not perfect\n"
     ]
    }
   ],
   "source": [
    "def perfect(n):\n",
    "    sum=0\n",
    "    for i in range(1,n):\n",
    "        if(n%i==0):\n",
    "            sum=sum+1\n",
    "            print(sum)\n",
    "    if(sum==n):\n",
    "        print(\"perfect\")\n",
    "    else:\n",
    "        print(\"not perfect\")\n",
    "n=int(input())\n",
    "perfect(n)"
   ]
  },
  {
   "cell_type": "markdown",
   "metadata": {},
   "source": [
    "# product of n natural numbers"
   ]
  },
  {
   "cell_type": "code",
   "execution_count": 48,
   "metadata": {},
   "outputs": [
    {
     "name": "stdout",
     "output_type": "stream",
     "text": [
      "1\n",
      "2\n",
      "6\n",
      "24\n",
      "120\n",
      "720\n",
      "5040\n",
      "40320\n",
      "362880\n",
      "3628800\n",
      "39916800\n",
      "479001600\n",
      "6227020800\n",
      "87178291200\n",
      "1307674368000\n",
      "20922789888000\n",
      "355687428096000\n"
     ]
    }
   ],
   "source": [
    "def product(n):\n",
    "    s=1\n",
    "    for i in range(1,n+1):\n",
    "        s=s*i\n",
    "        print(s)\n",
    "product(17)"
   ]
  },
  {
   "cell_type": "code",
   "execution_count": null,
   "metadata": {},
   "outputs": [],
   "source": []
  }
 ],
 "metadata": {
  "kernelspec": {
   "display_name": "Python 3",
   "language": "python",
   "name": "python3"
  },
  "language_info": {
   "codemirror_mode": {
    "name": "ipython",
    "version": 3
   },
   "file_extension": ".py",
   "mimetype": "text/x-python",
   "name": "python",
   "nbconvert_exporter": "python",
   "pygments_lexer": "ipython3",
   "version": "3.7.3"
  }
 },
 "nbformat": 4,
 "nbformat_minor": 2
}
