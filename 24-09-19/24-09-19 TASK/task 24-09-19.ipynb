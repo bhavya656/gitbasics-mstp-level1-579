{
 "cells": [
  {
   "cell_type": "markdown",
   "metadata": {},
   "source": [
    "# TASK"
   ]
  },
  {
   "cell_type": "markdown",
   "metadata": {},
   "source": [
    "#  TASK4:calculate the square root of the given number"
   ]
  },
  {
   "cell_type": "code",
   "execution_count": 3,
   "metadata": {},
   "outputs": [
    {
     "name": "stdout",
     "output_type": "stream",
     "text": [
      "25\n",
      "5.0\n"
     ]
    }
   ],
   "source": [
    "import math\n",
    "def sqrt(n):\n",
    "    sqrt=(math.sqrt(n))\n",
    "    print(sqrt)\n",
    "n=int(input())\n",
    "sqrt(n)\n",
    "    \n",
    "    "
   ]
  },
  {
   "cell_type": "markdown",
   "metadata": {},
   "source": [
    "# TASK2: check the number of digits in a given number"
   ]
  },
  {
   "cell_type": "code",
   "execution_count": 6,
   "metadata": {},
   "outputs": [
    {
     "name": "stdout",
     "output_type": "stream",
     "text": [
      "123\n",
      "326\n"
     ]
    }
   ],
   "source": [
    "def count(n):\n",
    "    count=0\n",
    "    while(n>0):\n",
    "        count=count+1\n",
    "        n=n/10\n",
    "    print(count)\n",
    "n=int(input())\n",
    "count(n)"
   ]
  },
  {
   "cell_type": "markdown",
   "metadata": {},
   "source": [
    "# TASK5:python program to take values of length and breadth(width) of a rectangle from user and check if it is square or not."
   ]
  },
  {
   "cell_type": "code",
   "execution_count": 8,
   "metadata": {},
   "outputs": [
    {
     "name": "stdout",
     "output_type": "stream",
     "text": [
      "6\n",
      "4\n",
      "rectangle\n"
     ]
    }
   ],
   "source": [
    "def square(l,b):\n",
    "    if(l==b):\n",
    "        print(\"square\")\n",
    "    else:\n",
    "        print(\"rectangle\")\n",
    "l=int(input())\n",
    "b=int(input())\n",
    "square(l,b)\n",
    "        \n",
    "        \n",
    "        \n",
    "        "
   ]
  },
  {
   "cell_type": "markdown",
   "metadata": {},
   "source": [
    "# TASK3:Check if the given number is a factor of 1000"
   ]
  },
  {
   "cell_type": "code",
   "execution_count": 2,
   "metadata": {},
   "outputs": [
    {
     "name": "stdout",
     "output_type": "stream",
     "text": [
      "5\n",
      "yes\n"
     ]
    }
   ],
   "source": [
    "def factor(i):\n",
    "    if((100%i)==0):\n",
    "        print(\"yes\")\n",
    "    else:\n",
    "        print(\"not\")\n",
    "i=int(input())\n",
    "factor(i)"
   ]
  },
  {
   "cell_type": "markdown",
   "metadata": {},
   "source": [
    "# TASK7.Take input of age of 3 people by user and determine oldest and youngest among them. "
   ]
  },
  {
   "cell_type": "code",
   "execution_count": 1,
   "metadata": {},
   "outputs": [
    {
     "name": "stdout",
     "output_type": "stream",
     "text": [
      "40\n",
      "60\n",
      "30\n",
      "yong 30\n",
      "oldest 60\n"
     ]
    }
   ],
   "source": [
    "ram=int(input())\n",
    "sam=int(input())\n",
    "mam=int(input())\n",
    "if ram>sam and ram>mam:\n",
    "    oldest=ram\n",
    "elif sam>ram and sam>mam:\n",
    "    oldest=sam\n",
    "else:\n",
    "    young=mam\n",
    "if ram<sam and ram<mam:\n",
    "    young=ram\n",
    "elif sam<ram and sam<mam:\n",
    "    young=sam\n",
    "else:\n",
    "    young=mam\n",
    "print(\"yong\",young)\n",
    "print(\"oldest\",oldest)\n"
   ]
  },
  {
   "cell_type": "markdown",
   "metadata": {},
   "source": [
    "# TASK6:A school has following rules for grading system:\n",
    "Below 25 - F\n",
    "25 to 45 - E\n",
    "45 to 50 - D\n",
    "50 to 60 - C\n",
    "60 to 80 - B\n",
    "Above 80 - A"
   ]
  },
  {
   "cell_type": "code",
   "execution_count": 5,
   "metadata": {},
   "outputs": [
    {
     "name": "stdout",
     "output_type": "stream",
     "text": [
      "65\n",
      "b\n"
     ]
    }
   ],
   "source": [
    "def marks(n):\n",
    "    if(n<25):\n",
    "        print(\"f\")\n",
    "    elif(n>25 and n<45):\n",
    "        print(\"e\")\n",
    "    elif(n>45 and n<50):\n",
    "        print(\"d\")\n",
    "    elif(n>50 and n<60):\n",
    "        print(\"c\")\n",
    "    elif(n>60 and n<80):\n",
    "        print(\"b\")\n",
    "    else:\n",
    "        print(\"a\")\n",
    "n=int(input())\n",
    "marks(n)\n",
    "\n",
    "\n"
   ]
  },
  {
   "cell_type": "markdown",
   "metadata": {},
   "source": [
    "# task1:Check if the number exist in a given range (inputs: number(n), range(lower number and upper number) "
   ]
  },
  {
   "cell_type": "code",
   "execution_count": 10,
   "metadata": {},
   "outputs": [
    {
     "name": "stdout",
     "output_type": "stream",
     "text": [
      "10\n",
      "20\n",
      "3\n",
      "no\n"
     ]
    }
   ],
   "source": [
    "def range(a):\n",
    "    if(lb<a<ub):\n",
    "        print(\"yes\")\n",
    "    else:\n",
    "        print(\"no\")\n",
    "lb=int(input())\n",
    "ub=int(input())\n",
    "a=int(input())\n",
    "range(a)\n"
   ]
  },
  {
   "cell_type": "code",
   "execution_count": null,
   "metadata": {},
   "outputs": [],
   "source": []
  }
 ],
 "metadata": {
  "kernelspec": {
   "display_name": "Python 3",
   "language": "python",
   "name": "python3"
  },
  "language_info": {
   "codemirror_mode": {
    "name": "ipython",
    "version": 3
   },
   "file_extension": ".py",
   "mimetype": "text/x-python",
   "name": "python",
   "nbconvert_exporter": "python",
   "pygments_lexer": "ipython3",
   "version": "3.7.3"
  }
 },
 "nbformat": 4,
 "nbformat_minor": 2
}
